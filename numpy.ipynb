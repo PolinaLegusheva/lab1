{
 "cells": [
  {
   "cell_type": "code",
   "execution_count": 19,
   "id": "1e679d27-c081-4c23-ab59-a95623154b32",
   "metadata": {
    "tags": []
   },
   "outputs": [],
   "source": [
    "import numpy as np\n",
    "import pandas as pd"
   ]
  },
  {
   "cell_type": "markdown",
   "id": "f06f3e36-3c4b-4497-83e1-cc9fe4e47771",
   "metadata": {},
   "source": [
    "Задание 1"
   ]
  },
  {
   "cell_type": "code",
   "execution_count": 31,
   "id": "57fe761e-d464-417b-8426-2f954865d020",
   "metadata": {
    "tags": []
   },
   "outputs": [
    {
     "name": "stdout",
     "output_type": "stream",
     "text": [
      "[1 2 3 1 2 3 1 2 3 1]\n",
      "None\n"
     ]
    }
   ],
   "source": [
    "def cycle(N, k):\n",
    "    a = list(np.arange(1, k+1))\n",
    "    n = N // k\n",
    "    f = N % k\n",
    "    X = np.array(a*n)\n",
    "    X = np.append(X, a[:f])\n",
    "    print(X)\n",
    "print(cycle(10, 3))"
   ]
  },
  {
   "cell_type": "markdown",
   "id": "eeef69a8-8ad3-4465-b84d-9bfb55541634",
   "metadata": {},
   "source": [
    "Задание 5"
   ]
  },
  {
   "cell_type": "code",
   "execution_count": 21,
   "id": "5a9de884-33d5-4e97-938f-994b1cf89016",
   "metadata": {},
   "outputs": [
    {
     "name": "stdout",
     "output_type": "stream",
     "text": [
      "[[0 1 2 3 4]\n",
      " [5 6 7 8 9]]\n",
      "[0 1 2 3 4 5 6 7 8 9]\n",
      "4\n"
     ]
    }
   ],
   "source": [
    "def nearest_value(array, number):\n",
    "    array = array.ravel()\n",
    "    print(array)\n",
    "    idx = np.abs(array - number).argmin()\n",
    "    return array[idx]\n",
    " \n",
    "X = np.arange(0,10).reshape((2, 5))\n",
    "v = 3.6\n",
    "print(X)\n",
    "print(nearest_value(X, v))"
   ]
  },
  {
   "cell_type": "markdown",
   "id": "ee3daaac-c4a9-471c-8d09-30bfbc1d44c1",
   "metadata": {},
   "source": [
    "Задание 4"
   ]
  },
  {
   "cell_type": "code",
   "execution_count": 10,
   "id": "d58140bd-afe3-416e-ad08-fee1bcb591b6",
   "metadata": {
    "tags": []
   },
   "outputs": [
    {
     "name": "stdout",
     "output_type": "stream",
     "text": [
      "[[6 2 3]\n",
      " [6 8 1]\n",
      " [7 2 5]]\n",
      "1\n",
      "None\n"
     ]
    }
   ],
   "source": [
    "def min_odd(X):\n",
    "    a = np.array(X)\n",
    "    print(np.min(a))\n",
    "X = np.random.randint(10, size=(3, 3))\n",
    "print(X)\n",
    "print(min_odd(X))    "
   ]
  },
  {
   "cell_type": "markdown",
   "id": "d5381b8b-42ca-48c6-8f91-1104fbb48216",
   "metadata": {},
   "source": [
    "Задание 2"
   ]
  },
  {
   "cell_type": "code",
   "execution_count": 8,
   "id": "34c05963-ac0c-4a7b-b08a-fd80418045ab",
   "metadata": {},
   "outputs": [
    {
     "name": "stdout",
     "output_type": "stream",
     "text": [
      "[[0 1 0 0]\n",
      " [0 0 2 0]\n",
      " [0 0 0 3]\n",
      " [0 0 0 0]]\n",
      "None\n"
     ]
    }
   ],
   "source": [
    "def next_diagonal(X):\n",
    "    a = np.array(X)\n",
    "    p = len(X)\n",
    "    di = np.diag(a, 1)\n",
    "    print(di)\n",
    "X = [1, 2, 3]\n",
    "print(next_diagonal(X))"
   ]
  },
  {
   "cell_type": "code",
   "execution_count": null,
   "id": "ac629386-521d-4959-a80d-e306b1a478d6",
   "metadata": {},
   "outputs": [],
   "source": []
  }
 ],
 "metadata": {
  "kernelspec": {
   "display_name": "Python 3 (ipykernel)",
   "language": "python",
   "name": "python3"
  },
  "language_info": {
   "codemirror_mode": {
    "name": "ipython",
    "version": 3
   },
   "file_extension": ".py",
   "mimetype": "text/x-python",
   "name": "python",
   "nbconvert_exporter": "python",
   "pygments_lexer": "ipython3",
   "version": "3.8.10"
  }
 },
 "nbformat": 4,
 "nbformat_minor": 5
}
